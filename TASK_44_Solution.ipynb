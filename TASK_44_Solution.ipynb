{
 "cells": [
  {
   "cell_type": "markdown",
   "metadata": {
    "id": "JcFgpQDMGYUv"
   },
   "source": [
    "`Question: 1` A company wants to estimate the average time spent by customers on their website per session. They collect a random sample of 100 customers and find that the sample mean time spent is 4.5 minutes with a sample standard deviation of 1.2 minutes. Calculate a 99% confidence interval for the true population mean time spent on the website per session."
   ]
  },
  {
   "cell_type": "markdown",
   "metadata": {
    "id": "1FIKt8PnGb_a"
   },
   "source": [
    "`Solution-1:`\n",
    "\n",
    "**Answer:**\n",
    "- First, we need to calculate the margin of error using the formula:\n",
    "    ```\n",
    "    Margin of Error = z*(sigma/√n)\n",
    "    ```\n",
    "    where z is the z-score associated with our level of confidence (99% in this case), sigma is the population standard deviation (unknown), and n is the sample size (100 in this case).\n",
    "    \n",
    "- Since we don't know the population standard deviation, we'll use the sample standard deviation as an estimate. The formula for calculating the t-score associated with our level of confidence and degrees of freedom (df = n - 1) is:\n",
    "    ```\n",
    "    t = t.ppf(1 - alpha/2, df=n-1)\n",
    "    ```\n",
    "    where alpha is 1 - our level of confidence (0.01 in this case).\n",
    "    \n",
    "- Now we can calculate the margin of error using:\n",
    "    ```\n",
    "    Margin of Error = t*(s/√n)\n",
    "    ```\n",
    "    where s is the sample standard deviation (1.2 in this case).\n",
    "    \n",
    "- Finally, we can calculate the confidence interval using:\n",
    "    ```\n",
    "    Confidence Interval = x̄ ± Margin of Error\n",
    "    ```\n",
    "    where x̄ is the sample mean (4.5 in this case).\n",
    "\n",
    "Putting it all together, we get:\n",
    "```\n",
    "Margin of Error = t*(s/√n) = 2.626*(1.2/√100) = 0.315\n",
    "Confidence Interval = x̄ ± Margin of Error = 4.5 ± 0.315 = [4.185, 4.815]\n",
    "```\n",
    "\n",
    "Therefore, we can be 99% confident that the true population mean time spent on the website per session falls between 4.185 and 4.815 minutes.\n"
   ]
  },
  {
   "cell_type": "code",
   "execution_count": 2,
   "metadata": {
    "colab": {
     "base_uri": "https://localhost:8080/"
    },
    "id": "owPrWdM3GsRM",
    "outputId": "917bc445-3b1c-48ee-e43c-292f73296602"
   },
   "outputs": [
    {
     "name": "stdout",
     "output_type": "stream",
     "text": [
      "The 99% confidence interval for the true population mean time spent on the website per session is (4.18, 4.82) minutes.\n"
     ]
    }
   ],
   "source": [
    "\n",
    "import scipy.stats as stats\n",
    "import math\n",
    "\n",
    "n = 100\n",
    "x_bar = 4.5\n",
    "s = 1.2\n",
    "alpha = 0.01\n",
    "\n",
    "t_score = stats.t.ppf(1 - alpha/2, n-1)\n",
    "lower_bound = x_bar - t_score * s / math.sqrt(n)\n",
    "upper_bound = x_bar + t_score * s / math.sqrt(n)\n",
    "\n",
    "print(f\"The 99% confidence interval for the true population mean time spent on the website per session is ({lower_bound:.2f}, {upper_bound:.2f}) minutes.\")\n"
   ]
  },
  {
   "cell_type": "markdown",
   "metadata": {
    "id": "p9Y2yWTtHKx-"
   },
   "source": [
    "`Question 2:` A car manufacturer is interested in estimating the mean gas mileage of their new SUV. A sample of 25 SUVs is taken, and their mean gas mileage is found to be 28.6 miles per gallon with a standard deviation of 2.8 miles per gallon. Calculate a 95% confidence interval for the true mean gas mileage of the SUV."
   ]
  },
  {
   "cell_type": "markdown",
   "metadata": {
    "id": "8-VEn4QiHNQW"
   },
   "source": [
    "`Solution-2:`"
   ]
  },
  {
   "cell_type": "code",
   "execution_count": 3,
   "metadata": {
    "colab": {
     "base_uri": "https://localhost:8080/"
    },
    "id": "BJcweJg9G6xD",
    "outputId": "57baa191-23e7-41f0-a5f8-014e75435aa2"
   },
   "outputs": [
    {
     "name": "stdout",
     "output_type": "stream",
     "text": [
      "95% Confidence interval: [27.44665841 29.75334159]\n"
     ]
    }
   ],
   "source": [
    "import numpy as np\n",
    "from scipy.stats import t\n",
    "\n",
    "# Sample mean and sample standard deviation\n",
    "x_bar = 28.6\n",
    "s = 2.8\n",
    "\n",
    "# Degrees of freedom -> sample size\n",
    "df = 25\n",
    "\n",
    "# Critical value for 95% confidence level\n",
    "t_critical = t.ppf(0.975, df)\n",
    "\n",
    "# Standard error of the mean\n",
    "se = s / np.sqrt(25)\n",
    "\n",
    "# Confidence interval\n",
    "ci = x_bar + np.array([-1, 1]) * t_critical * se\n",
    "\n",
    "print(f\"95% Confidence interval: {ci}\")\n"
   ]
  },
  {
   "cell_type": "code",
   "execution_count": null,
   "metadata": {
    "id": "tn2X3tQBHRmm"
   },
   "outputs": [],
   "source": []
  },
  {
   "cell_type": "markdown",
   "metadata": {
    "id": "HrEPBDDIX9TR"
   },
   "source": [
    "`Question -3:` Dataset - India temperature dataset.\n",
    "\n",
    "Data link: https://drive.google.com/file/d/1whb8Rjdk9TBKOwVi8NwZD1Tc8Tdv7iEc/view?usp=share_link\n",
    "\n",
    "Kaggle Link : (Just take IND data for this question, have to apply filtering). https://www.kaggle.com/datasets/berkeleyearth/climate-change-earth-surface-temperature-data\n",
    "\n",
    "A climate research organization wants to estimate the average temperature of a certain country. They collect temperature data for 2613 days but due to certain limitations, they only have information about the average temperature for 2508 days. The organization assumes that the population follows a normal distribution and wants to estimate the population mean temperature with a 95% confidence interval.\n",
    "\n",
    "* Standard deviation is assumed as given data standard deviation. z Procedure\n",
    "* Standard deviation is not given. Apply t Procedure"
   ]
  },
  {
   "cell_type": "markdown",
   "metadata": {
    "id": "oYHNMYDQY4KX"
   },
   "source": [
    "`Solution -3 ` :"
   ]
  },
  {
   "cell_type": "code",
   "execution_count": 4,
   "metadata": {
    "id": "tVDRA_WkYD_k"
   },
   "outputs": [],
   "source": [
    "import numpy as np # linear algebra\n",
    "import pandas as pd # data processing, CSV file I/O (e.g. pd.read_csv)\n",
    "import matplotlib.pyplot as plt\n",
    "import seaborn as sns\n",
    "from scipy.stats import t, norm"
   ]
  },
  {
   "cell_type": "code",
   "execution_count": 6,
   "metadata": {
    "colab": {
     "base_uri": "https://localhost:8080/",
     "height": 448
    },
    "id": "s8P5IttOZDfc",
    "outputId": "a327c0dc-b30b-48f4-e8cb-2652086526dd"
   },
   "outputs": [
    {
     "data": {
      "text/plain": [
       "<Axes: ylabel='Density'>"
      ]
     },
     "execution_count": 6,
     "metadata": {},
     "output_type": "execute_result"
    },
    {
     "data": {
      "image/png": "[encoded data removed]",
      "text/plain": [
       "<Figure size 640x480 with 1 Axes>"
      ]
     },
     "metadata": {},
     "output_type": "display_data"
    }
   ],
   "source": [
    "ind_data = pd.read_csv('ind_temp.csv')\n",
    "ind_data['AverageTemperature'].plot(kind='kde')"
   ]
  },
  {
   "cell_type": "code",
   "execution_count": 19,
   "metadata": {
    "colab": {
     "base_uri": "https://localhost:8080/",
     "height": 448
    },
    "id": "hY8P8bJGZS8Q",
    "outputId": "a524577d-caff-470e-a5a4-6783d730d66c"
   },
   "outputs": [
    {
     "data": {
      "text/plain": [
       "<Axes: ylabel='Density'>"
      ]
     },
     "execution_count": 19,
     "metadata": {},
     "output_type": "execute_result"
    },
    {
     "data": {
      "image/png": "[encoded data removed]",
      "text/plain": [
       "<Figure size 640x480 with 1 Axes>"
      ]
     },
     "metadata": {},
     "output_type": "display_data"
    }
   ],
   "source": [
    "# sample size = 50 -> 200 times\n",
    "samples = []\n",
    "stds = []\n",
    "mean = []\n",
    "for i in range(200):\n",
    "    d = ind_data['AverageTemperature'].dropna().sample(50).values\n",
    "    stds.append(d.std())\n",
    "    mean.append(d.mean())\n",
    "    samples.append(d.tolist())\n",
    "\n",
    " \n",
    "samples = np.array(samples)\n",
    "mean = np.array(mean)\n",
    "sampling_means = samples.mean(axis=1)\n",
    "sample_std = np.mean(stds)\n",
    "sns.kdeplot(sampling_means)\n",
    "sns.kdeplot(mean)"
   ]
  },
  {
   "cell_type": "code",
   "execution_count": 23,
   "metadata": {
    "colab": {
     "base_uri": "https://localhost:8080/"
    },
    "id": "6S16DHxuZfOz",
    "outputId": "9d14c841-5c88-4ef3-e9d9-dbcf293f6071"
   },
   "outputs": [
    {
     "name": "stdout",
     "output_type": "stream",
     "text": [
      "Interval for 95% confidance(t-procedure): [22.6657458 25.099974 ]\n",
      "Actual data mean temprature 23.873789473684212\n"
     ]
    }
   ],
   "source": [
    "# T - procedure\n",
    "# 0.975 because we wanted 95% confidance and 50 because sample size is 50\n",
    "\n",
    "T = t.ppf(0.975, 50)\n",
    "interval = mean.mean() + np.array([-1,1]) * T * sample_std/np.sqrt(50)\n",
    "print(\"Interval for 95% confidance(t-procedure):\",interval)\n",
    "print(\"Actual data mean temprature\",ind_data.AverageTemperature.mean())"
   ]
  },
  {
   "cell_type": "markdown",
   "metadata": {
    "id": "uks_jPVcazlD"
   },
   "source": [
    "` Z - Procedure `\n",
    "You don’t actually have to look up z alpha/2 in a z-table every time. For most hypothesis tests, you’ll probably be using one of four confidence levels (90%, 95%, 98% and 99%). The z alpha/2 for each confidence level is always the same:\n",
    "\n",
    "![image.png](data:image/png;base64,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)"
   ]
  },
  {
   "cell_type": "code",
   "execution_count": 24,
   "metadata": {
    "colab": {
     "base_uri": "https://localhost:8080/"
    },
    "id": "tNg6IVETZgu2",
    "outputId": "43e0ad7e-e170-4cae-c6ea-50e6afa66cda"
   },
   "outputs": [
    {
     "name": "stdout",
     "output_type": "stream",
     "text": [
      "Interval for 95% confidance(z-procedure): [22.68382824 25.08189156]\n",
      "Actual data mean temprature 23.873789473684212\n"
     ]
    }
   ],
   "source": [
    "# Z - procedure\n",
    "std = ind_data.AverageTemperature.std()\n",
    "# 95% -> 1 - alpha = 0.95 -> alpha = 0.5 -> alpha/2 = 0.25 -> 0.95 + 0.25 -> 0.975\n",
    "z = norm.ppf(0.975)\n",
    "interval = sampling_means.mean() + np.array([-1,1]) * z * std/np.sqrt(50)\n",
    "print(\"Interval for 95% confidance(z-procedure):\",interval)\n",
    "print(\"Actual data mean temprature\",ind_data.AverageTemperature.mean())"
   ]
  },
  {
   "cell_type": "markdown",
   "metadata": {
    "id": "BsDu_JOSeKmw"
   },
   "source": [
    "`Question 5:` BMW Dataset : https://drive.google.com/file/d/18amVv1WKKHEmwyvVy0RuXp4A6xrGOelc/view?usp=share_link\n",
    "\n",
    "\n",
    "\n",
    "* Task 1:\n",
    "The sales manager of a used car company wants to know what is the average selling price of all the used bmw cars.\n",
    "The analyst can collect only a sample of sales of 500 cars in the area. Since this estimate is going to be used by the company to strategize sales of his company, the sample mean should be a good approximation of all the account.\n",
    "What level of confidence is the sales manager going to be satisfied with? What +/- interval number is going to be acceptable?\n",
    "\n",
    "* Task 2:\n",
    "In addition to the price of the car, the manager also wants to now know the average mileage that the car has been driven. But the manager does not have the population standard deviation for the mileage. But the mileage data is available only from the 25 cars that they have sold so far.\n",
    "How do the analyst approach this problem to calculate 95% confidence interval, with only 25 samples?\n",
    "\n",
    "* Task 3:\n",
    "The manager is not happy with both the intervals (intervals from task 1 and 2) as the interval for the confidence is very high. The manager now asks the analyst to estimate the average price of the car (similar to task 1) but within a bound of 750 from the mean with 95% condidence level. How many sample does the analyst have to collect to arrive at this confidence interval level?\n",
    "\n",
    "* Task 4:\n",
    "Conversely, after the analyst started collecting the data, after a week he was only able to collect for 420 samples, though he needs 540 samples for Bound of 1,000, if he has to do the analysis now, what is the best interval he can acheive for 95% confidence levels?"
   ]
  },
  {
   "cell_type": "code",
   "execution_count": 2,
   "metadata": {
    "colab": {
     "base_uri": "https://localhost:8080/"
    },
    "id": "ZKYtRMWPaSsn",
    "outputId": "3f5a0cc6-612e-43ae-d373-607a2347d453"
   },
   "outputs": [
    {
     "name": "stdout",
     "output_type": "stream",
     "text": [
      "<class 'pandas.core.frame.DataFrame'>\n",
      "RangeIndex: 10781 entries, 0 to 10780\n",
      "Data columns (total 9 columns):\n",
      " #   Column        Non-Null Count  Dtype  \n",
      "---  ------        --------------  -----  \n",
      " 0   model         10781 non-null  object \n",
      " 1   year          10781 non-null  int64  \n",
      " 2   price         10781 non-null  int64  \n",
      " 3   transmission  10781 non-null  object \n",
      " 4   mileage       10781 non-null  int64  \n",
      " 5   fuelType      10781 non-null  object \n",
      " 6   tax           10781 non-null  int64  \n",
      " 7   mpg           10781 non-null  float64\n",
      " 8   engineSize    10781 non-null  float64\n",
      "dtypes: float64(2), int64(4), object(3)\n",
      "memory usage: 758.2+ KB\n"
     ]
    }
   ],
   "source": [
    "bmw = pd.read_csv('bmw.csv')\n",
    "bmw.info()"
   ]
  },
  {
   "cell_type": "code",
   "execution_count": 3,
   "metadata": {
    "colab": {
     "base_uri": "https://localhost:8080/"
    },
    "id": "xw9mCKxZeb5t",
    "outputId": "d39ab828-bf90-4dad-c312-e2a8ebdf881b"
   },
   "outputs": [
    {
     "data": {
      "text/plain": [
       "(10781, 9)"
      ]
     },
     "execution_count": 3,
     "metadata": {},
     "output_type": "execute_result"
    }
   ],
   "source": [
    "bmw.shape"
   ]
  },
  {
   "cell_type": "markdown",
   "metadata": {
    "id": "yLaJs6ssgoa1"
   },
   "source": [
    "### Solution :"
   ]
  },
  {
   "cell_type": "markdown",
   "metadata": {
    "id": "Ptm-MpQ9grmX"
   },
   "source": [
    "#### Task 1:\n",
    "To determine the level of confidence the sales manager is going to be satisfied with, we need to consider the level of risk he is willing to take. For example, if the sales manager is willing to take a risk of being incorrect 5% of the time, he would want a 95% confidence interval.\n",
    "\n",
    "To calculate the interval estimate, we need to calculate the mean and standard deviation of the sample, as well as the sample size, and the level of confidence."
   ]
  },
  {
   "cell_type": "code",
   "execution_count": 4,
   "metadata": {
    "colab": {
     "base_uri": "https://localhost:8080/"
    },
    "id": "5wiQ15EsfHlE",
    "outputId": "77574d9e-cf94-4b66-8bb3-2dd9c428fa08"
   },
   "outputs": [
    {
     "name": "stdout",
     "output_type": "stream",
     "text": [
      "95% confidence interval for the average selling price of all used BMW cars based on the sample of 1000 cars: (22010.57, 24011.76)\n"
     ]
    }
   ],
   "source": [
    "import pandas as pd\n",
    "import numpy as np\n",
    "from scipy.stats import norm\n",
    "\n",
    "# load the dataset\n",
    "df = bmw\n",
    "\n",
    "# take a sample of 500 cars\n",
    "sample_size = 500\n",
    "sample = df.sample(n=sample_size, random_state=42)\n",
    "\n",
    "# calculate sample mean and standard deviation\n",
    "sample_mean = sample['price'].mean()\n",
    "population_std = df['price'].std(ddof=1)  # use ddof=1 for sample standard deviation\n",
    "\n",
    "# set the desired level of confidence\n",
    "confidence_level = 0.95\n",
    "\n",
    "# calculate the critical value for the confidence level\n",
    "z_critical = norm.ppf(1 - (1 - confidence_level)/2)\n",
    "# 1 - (1 - confidence_level)/2 -> 1 - (0.05)/2 -> 1 - 0.025 -> 0.975\n",
    "\n",
    "\n",
    "# calculate the margin of error\n",
    "margin_of_error = z_critical * population_std / np.sqrt(sample_size)\n",
    "\n",
    "# calculate the confidence interval\n",
    "lower_bound = sample_mean - margin_of_error\n",
    "upper_bound = sample_mean + margin_of_error\n",
    "\n",
    "# print the results\n",
    "print(f\"95% confidence interval for the average selling price of all used BMW cars based on the sample of 1000 cars: ({lower_bound:.2f}, {upper_bound:.2f})\")\n"
   ]
  },
  {
   "cell_type": "markdown",
   "metadata": {
    "id": "XH7daFE6iG45"
   },
   "source": [
    "#### Task 2:\n",
    "\n",
    "For question 2, we want to calculate the 95% confidence interval for the average mileage of BMW cars sold by the used car company. We have only 25 sample data points for mileage, and we do not know the population standard deviation.\n",
    "\n",
    "Since we do not know the population standard deviation, we will use the t-distribution instead of the z-distribution. We will use the t-distribution with 24 degrees of freedom (n-1) to calculate the critical value for the 95% confidence level.\n",
    "\n",
    "First, we calculate the sample mean and sample standard deviation of the 25 sample data points for mileage:"
   ]
  },
  {
   "cell_type": "code",
   "execution_count": 10,
   "metadata": {
    "colab": {
     "base_uri": "https://localhost:8080/"
    },
    "id": "pSIufpzYhfkH",
    "outputId": "fa925d2c-4c72-4918-99a8-bb235b609f37"
   },
   "outputs": [
    {
     "name": "stdout",
     "output_type": "stream",
     "text": [
      "3840     47717\n",
      "7757     45000\n",
      "10325    41063\n",
      "685      45000\n",
      "1947     18099\n",
      "3899      7937\n",
      "674      26471\n",
      "7134      7130\n",
      "825      16151\n",
      "8248     38936\n",
      "2621       103\n",
      "1499     21564\n",
      "1292     19396\n",
      "7007      6650\n",
      "6630      4186\n",
      "3086      7350\n",
      "654      19682\n",
      "2065     12173\n",
      "5503     41397\n",
      "1122     67958\n",
      "9085      7935\n",
      "3023     45252\n",
      "10731    29878\n",
      "8033     26093\n",
      "6610     25596\n",
      "Name: mileage, dtype: int64\n",
      "25148.68 17421.996206233085\n",
      "2.0638985616280205\n",
      "7191.446582146658\n",
      "95% confidence interval for average mileage of BMW cars sold:\n",
      "Lower bound: 17957.233417853342\n",
      "Upper bound: 32340.12658214666\n"
     ]
    }
   ],
   "source": [
    "import pandas as pd\n",
    "import numpy as np\n",
    "from scipy.stats import t\n",
    "\n",
    "# load BMW dataset\n",
    "bmw = bmw\n",
    "\n",
    "# select 25 sample data points for mileage\n",
    "mileage_sample = bmw['mileage'].sample(n=25, random_state=1)\n",
    "print(mileage_sample)\n",
    "# calculate sample mean and sample standard deviation\n",
    "sample_mean = np.mean(mileage_sample)\n",
    "sample_std = np.std(mileage_sample, ddof=1)\n",
    "\n",
    "print(sample_mean,sample_std)\n",
    "# Next, we calculate the t-critical value for the 95% confidence level using the t-distribution with 24 degrees of freedom:\n",
    "\n",
    "# calculate t-critical value for 95% confidence level\n",
    "t_critical = t.ppf(0.975, df=24)\n",
    "print(t_critical)\n",
    "# calculate margin of error\n",
    "margin_of_error = t_critical * (sample_std / np.sqrt(25))\n",
    "print(margin_of_error)\n",
    "# calculate lower and upper bounds of confidence interval\n",
    "lower_bound = sample_mean - margin_of_error\n",
    "upper_bound = sample_mean + margin_of_error\n",
    "\n",
    "print(\"95% confidence interval for average mileage of BMW cars sold:\")\n",
    "print(\"Lower bound:\", lower_bound)\n",
    "print(\"Upper bound:\", upper_bound)\n"
   ]
  },
  {
   "cell_type": "markdown",
   "metadata": {
    "id": "wPlfNPkLkLBo"
   },
   "source": [
    "#### Task 3:\n",
    "\n",
    "To calculate the required sample size for price estimation with in 750 margin, we need to use the following formula:\n",
    "\n",
    "### The size of the sample is affected by parameters such as:\n",
    "- Bound that we need our interval to be within. This is represented by B. In question 3, B = 750\n",
    "- The confidence level (1−𝛼). In question 3 this is 95%\n",
    "- What is the estimate of variance (of standard deviation) of the population?\n",
    "\n",
    "##### The minimum number of required samples to estimate the population mean μ is:\n",
    "\n",
    "$$ n = \\dfrac{Z^2 _{\\alpha / 2} \\sigma^2}{B^2} $$\n",
    "\n",
    "Where,\n",
    "n = sample size\n",
    "z = z-score for the desired confidence level (95%)\n",
    "std = standard deviation of the population (unknown in this case)\n",
    "B = margin of error (750)\n",
    "\n",
    "To calculate the sample size, we need to estimate the standard deviation. We can use the standard deviation of the sample as an estimate for the population standard deviation.\n",
    "\n",
    "First, let's calculate the sample standard deviation:"
   ]
  },
  {
   "cell_type": "code",
   "execution_count": 6,
   "metadata": {
    "colab": {
     "base_uri": "https://localhost:8080/"
    },
    "id": "jIHOk7RlkA17",
    "outputId": "e44d3e40-48fa-4a23-8dd7-b3d0187b29c1"
   },
   "outputs": [
    {
     "name": "stdout",
     "output_type": "stream",
     "text": [
      "11384.60551800387\n"
     ]
    }
   ],
   "source": [
    "import pandas as pd\n",
    "import numpy as np\n",
    "\n",
    "df = bmw\n",
    "samples_mean = []\n",
    "stds =[]\n",
    "for i in range(500):\n",
    "    sample = df['price'].sample(n=50)\n",
    "    samples_mean.append(sample.mean())\n",
    "    stds.append(sample.std())\n",
    "\n",
    "sample_std = np.mean(stds)\n",
    "print(sample_std)\n"
   ]
  },
  {
   "cell_type": "markdown",
   "metadata": {
    "id": "d6bJdDi0mHrM"
   },
   "source": [
    "We can use this sample standard deviation as an estimate for the population standard deviation.\n",
    "\n",
    "Now, we can calculate the required sample size:"
   ]
  },
  {
   "cell_type": "code",
   "execution_count": 7,
   "metadata": {
    "colab": {
     "base_uri": "https://localhost:8080/"
    },
    "id": "wWosByIRmIUq",
    "outputId": "219c7ae5-8781-4ba1-a268-5736b8ab2c74"
   },
   "outputs": [
    {
     "name": "stdout",
     "output_type": "stream",
     "text": [
      "885.1352337772687\n"
     ]
    }
   ],
   "source": [
    "import scipy.stats as stats\n",
    "\n",
    "z = stats.norm.ppf(0.975) # for 95% confidence level\n",
    "B = 750\n",
    "\n",
    "n = ((z*sample_std)/B)**2\n",
    "print(n)"
   ]
  },
  {
   "cell_type": "markdown",
   "metadata": {
    "id": "EVe-hptFmg_h"
   },
   "source": [
    "So, we need to collect at least 857 samples to estimate the population mean with a 95% confidence level and a margin of error of 750."
   ]
  },
  {
   "cell_type": "markdown",
   "metadata": {
    "id": "uzU65MISmo-i"
   },
   "source": [
    "#### Task 4:\n",
    "Conversely, after the analyst started collecting the data, after a week he was only able to collect for 420 samples, though he needs 857 samples for B of 750(from question 3), if he has to do the analysis now, what is the best interval he can acheive for 95% confidence levels?\n",
    "\n",
    "\n",
    "This is converse senario to the question 3. From the formula for the sample size determination we can come up with the formula for calculating the bounds:\n",
    "\n",
    "$$ n = \\dfrac{Z^2 _{\\alpha / 2} \\sigma^2}{B^2} $$\n",
    "\n",
    "$$ B = Z _{\\alpha / 2} \\dfrac{\\sigma}{\\sqrt n} $$"
   ]
  },
  {
   "cell_type": "markdown",
   "metadata": {
    "id": "g5-__mTIpxv4"
   },
   "source": [
    "*Hence for our question*:\n",
    "\n",
    "\n"
   ]
  },
  {
   "cell_type": "code",
   "execution_count": null,
   "metadata": {
    "colab": {
     "base_uri": "https://localhost:8080/"
    },
    "id": "WP1BAqt7mXjr",
    "outputId": "1e20b448-dc3e-497a-bd32-ae55a650a8e5"
   },
   "outputs": [
    {
     "name": "stdout",
     "output_type": "stream",
     "text": [
      "1174.542315011596\n"
     ]
    }
   ],
   "source": [
    "sample_std = df['price'].sample(n=420).std()\n",
    "\n",
    "z = 1.96\n",
    "B = z * sample_std/np.sqrt(420)\n",
    "print(B)"
   ]
  },
  {
   "cell_type": "markdown",
   "metadata": {
    "id": "9Y9oMUgIqfI-"
   },
   "source": [
    "##### The analyst will be able to construct the sample means within 1175 of the population mean with 420 samples."
   ]
  }
 ],
 "metadata": {
  "colab": {
   "provenance": []
  },
  "kernelspec": {
   "display_name": "Python 3 (ipykernel)",
   "language": "python",
   "name": "python3"
  },
  "language_info": {
   "codemirror_mode": {
    "name": "ipython",
    "version": 3
   },
   "file_extension": ".py",
   "mimetype": "text/x-python",
   "name": "python",
   "nbconvert_exporter": "python",
   "pygments_lexer": "ipython3",
   "version": "3.11.4"
  },
  "widgets": {
   "application/vnd.jupyter.widget-state+json": {
    "state": {},
    "version_major": 2,
    "version_minor": 0
   }
  }
 },
 "nbformat": 4,
 "nbformat_minor": 4
}
